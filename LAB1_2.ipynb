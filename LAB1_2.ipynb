{
 "cells": [
  {
   "cell_type": "markdown",
   "id": "3bab3dd2-2b2e-44ac-ae46-a7b4bfee2d24",
   "metadata": {},
   "source": [
    "classification multi-classes"
   ]
  },
  {
   "cell_type": "code",
   "execution_count": 1,
   "id": "75484ba7-a605-4480-884c-3bcf3e6eccb0",
   "metadata": {},
   "outputs": [],
   "source": [
    "import pandas as pd\n",
    "import numpy as np\n",
    "from sklearn.preprocessing import StandardScaler\n",
    "from sklearn.model_selection import train_test_split\n",
    "import torch\n",
    "from torch.utils.data import Dataset, DataLoader"
   ]
  },
  {
   "cell_type": "code",
   "execution_count": 2,
   "id": "e816ab62-c576-4b5e-9153-259732e89169",
   "metadata": {},
   "outputs": [
    {
     "name": "stdout",
     "output_type": "stream",
     "text": [
      "   UDI Product ID Type  Air temperature [K]  Process temperature [K]  \\\n",
      "0    1     M14860    M                298.1                    308.6   \n",
      "1    2     L47181    L                298.2                    308.7   \n",
      "2    3     L47182    L                298.1                    308.5   \n",
      "3    4     L47183    L                298.2                    308.6   \n",
      "4    5     L47184    L                298.2                    308.7   \n",
      "\n",
      "   Rotational speed [rpm]  Torque [Nm]  Tool wear [min]  Target Failure Type  \n",
      "0                    1551         42.8                0       0   No Failure  \n",
      "1                    1408         46.3                3       0   No Failure  \n",
      "2                    1498         49.4                5       0   No Failure  \n",
      "3                    1433         39.5                7       0   No Failure  \n",
      "4                    1408         40.0                9       0   No Failure  \n"
     ]
    }
   ],
   "source": [
    "data = pd.read_csv('predictive_maintenance.csv')\n",
    "print(data.head())"
   ]
  },
  {
   "cell_type": "code",
   "execution_count": 3,
   "id": "e07ab3e6-59ee-4758-a211-f15327497b6e",
   "metadata": {},
   "outputs": [
    {
     "name": "stdout",
     "output_type": "stream",
     "text": [
      "\n",
      "Valeurs manquantes :\n",
      "UDI                        0\n",
      "Product ID                 0\n",
      "Type                       0\n",
      "Air temperature [K]        0\n",
      "Process temperature [K]    0\n",
      "Rotational speed [rpm]     0\n",
      "Torque [Nm]                0\n",
      "Tool wear [min]            0\n",
      "Target                     0\n",
      "Failure Type               0\n",
      "dtype: int64\n"
     ]
    }
   ],
   "source": [
    "print(\"\\nValeurs manquantes :\")\n",
    "print(data.isnull().sum())"
   ]
  },
  {
   "cell_type": "code",
   "execution_count": 6,
   "id": "08a01a69-78a2-48b1-b905-e787234774ba",
   "metadata": {},
   "outputs": [
    {
     "name": "stdout",
     "output_type": "stream",
     "text": [
      "Index(['UDI', 'Product ID', 'Type', 'Air temperature [K]',\n",
      "       'Process temperature [K]', 'Rotational speed [rpm]', 'Torque [Nm]',\n",
      "       'Tool wear [min]', 'Target', 'Failure Type'],\n",
      "      dtype='object')\n"
     ]
    }
   ],
   "source": [
    "print(data.columns)"
   ]
  },
  {
   "cell_type": "code",
   "execution_count": 8,
   "id": "baa7d316-3fae-4293-bb66-7a9a98deb954",
   "metadata": {},
   "outputs": [],
   "source": [
    "X = data.drop('Failure Type', axis=1) \n",
    "y = data['Failure Type']"
   ]
  },
  {
   "cell_type": "code",
   "execution_count": 10,
   "id": "417e0ade-1b2e-4099-9d34-0f5a1558798b",
   "metadata": {},
   "outputs": [],
   "source": [
    "from sklearn.preprocessing import LabelEncoder\n",
    "label_encoder = LabelEncoder()\n",
    "y = label_encoder.fit_transform(y)"
   ]
  },
  {
   "cell_type": "code",
   "execution_count": 12,
   "id": "bae41815-0a82-4b68-aa55-d0d8a6ab1e98",
   "metadata": {},
   "outputs": [
    {
     "name": "stdout",
     "output_type": "stream",
     "text": [
      "UDI                          int64\n",
      "Product ID                  object\n",
      "Type                        object\n",
      "Air temperature [K]        float64\n",
      "Process temperature [K]    float64\n",
      "Rotational speed [rpm]       int64\n",
      "Torque [Nm]                float64\n",
      "Tool wear [min]              int64\n",
      "Target                       int64\n",
      "Failure Type                object\n",
      "dtype: object\n"
     ]
    }
   ],
   "source": [
    "print(data.dtypes)"
   ]
  },
  {
   "cell_type": "code",
   "execution_count": 13,
   "id": "30bb5820-3608-40d1-95d7-c8bd6e655c21",
   "metadata": {},
   "outputs": [],
   "source": [
    "data = data.drop(['UDI', 'Product ID'], axis=1)\n",
    "\n",
    "data['Type'] = LabelEncoder().fit_transform(data['Type'])\n",
    "\n",
    "data['Failure Type'] = LabelEncoder().fit_transform(data['Failure Type'])\n",
    "\n",
    "X = data.drop('Failure Type', axis=1)  \n",
    "y = data['Failure Type']  \n",
    "\n",
    "scaler = StandardScaler()\n",
    "X = scaler.fit_transform(X)"
   ]
  },
  {
   "cell_type": "code",
   "execution_count": 14,
   "id": "2f69d6a9-4290-4fd8-8ee9-be91b579e7d5",
   "metadata": {},
   "outputs": [
    {
     "name": "stdout",
     "output_type": "stream",
     "text": [
      "Type                         int64\n",
      "Air temperature [K]        float64\n",
      "Process temperature [K]    float64\n",
      "Rotational speed [rpm]       int64\n",
      "Torque [Nm]                float64\n",
      "Tool wear [min]              int64\n",
      "Target                       int64\n",
      "Failure Type                 int64\n",
      "dtype: object\n"
     ]
    }
   ],
   "source": [
    "print(data.dtypes)"
   ]
  },
  {
   "cell_type": "code",
   "execution_count": 15,
   "id": "75a6cae6-1ed8-4ead-a152-53167f6f01fb",
   "metadata": {},
   "outputs": [],
   "source": [
    "class CSVDataset(Dataset):\n",
    "    def __init__(self, X, y):\n",
    "        self.X = torch.tensor(X, dtype=torch.float32)\n",
    "        self.y = torch.tensor(y, dtype=torch.long)\n",
    "    \n",
    "    def __len__(self):\n",
    "        return len(self.X)\n",
    "    \n",
    "    def __getitem__(self, idx):\n",
    "        return self.X[idx], self.y[idx]"
   ]
  },
  {
   "cell_type": "code",
   "execution_count": 16,
   "id": "6387fd7f-f852-4ca1-83b9-10d207730749",
   "metadata": {},
   "outputs": [],
   "source": [
    "X_train, X_test, y_train, y_test = train_test_split(X, y, test_size=0.2, random_state=42)\n"
   ]
  },
  {
   "cell_type": "code",
   "execution_count": 18,
   "id": "32a08864-3f26-4f44-b0e6-c1e99fd710b9",
   "metadata": {},
   "outputs": [],
   "source": [
    "y_train = y_train.to_numpy()\n",
    "y_test = y_test.to_numpy()\n",
    "\n",
    "train_dataset = CSVDataset(X_train, y_train)\n",
    "test_dataset = CSVDataset(X_test, y_test)"
   ]
  },
  {
   "cell_type": "code",
   "execution_count": 19,
   "id": "25eb5763-140a-4b5b-acfd-cc0f0f09d436",
   "metadata": {},
   "outputs": [],
   "source": [
    "train_loader = DataLoader(train_dataset, batch_size=32, shuffle=True)\n",
    "test_loader = DataLoader(test_dataset, batch_size=32, shuffle=False)"
   ]
  },
  {
   "cell_type": "code",
   "execution_count": 20,
   "id": "8d4d58ff-c98c-4322-b0e2-2c741fdb55ff",
   "metadata": {},
   "outputs": [],
   "source": [
    "import torch.nn as nn\n",
    "import torch.nn.functional as F\n",
    "\n",
    "class MLP(nn.Module):\n",
    "    def __init__(self, input_dim, output_dim):\n",
    "        super(MLP, self).__init__()\n",
    "        self.fc1 = nn.Linear(input_dim, 64)\n",
    "        self.fc2 = nn.Linear(64, 32)\n",
    "        self.fc3 = nn.Linear(32, output_dim)\n",
    "        self.dropout = nn.Dropout(0.3)\n",
    "        \n",
    "    def forward(self, x):\n",
    "        x = F.relu(self.fc1(x))\n",
    "        x = self.dropout(x)\n",
    "        x = F.relu(self.fc2(x))\n",
    "        x = self.fc3(x)\n",
    "        return x\n",
    "\n",
    "# Initialisation du modèle\n",
    "input_dim = X.shape[1]\n",
    "output_dim = len(np.unique(y))  # Nombre de classes\n",
    "model = MLP(input_dim, output_dim)\n"
   ]
  },
  {
   "cell_type": "code",
   "execution_count": 21,
   "id": "1b584f24-0a98-42d5-a639-021f4530e795",
   "metadata": {},
   "outputs": [],
   "source": [
    "criterion = nn.CrossEntropyLoss()\n",
    "optimizer = torch.optim.Adam(model.parameters(), lr=0.001, weight_decay=0.01)"
   ]
  },
  {
   "cell_type": "code",
   "execution_count": 25,
   "id": "458a4550-5ec0-4a90-8561-2b41475acfdd",
   "metadata": {},
   "outputs": [
    {
     "name": "stdout",
     "output_type": "stream",
     "text": [
      "Epoch [1/50], Loss: 0.0676\n",
      "Epoch [2/50], Loss: 0.0674\n",
      "Epoch [3/50], Loss: 0.0673\n",
      "Epoch [4/50], Loss: 0.0678\n",
      "Epoch [5/50], Loss: 0.0671\n",
      "Epoch [6/50], Loss: 0.0672\n",
      "Epoch [7/50], Loss: 0.0672\n",
      "Epoch [8/50], Loss: 0.0673\n",
      "Epoch [9/50], Loss: 0.0670\n",
      "Epoch [10/50], Loss: 0.0671\n",
      "Epoch [11/50], Loss: 0.0674\n",
      "Epoch [12/50], Loss: 0.0672\n",
      "Epoch [13/50], Loss: 0.0670\n",
      "Epoch [14/50], Loss: 0.0672\n",
      "Epoch [15/50], Loss: 0.0672\n",
      "Epoch [16/50], Loss: 0.0674\n",
      "Epoch [17/50], Loss: 0.0668\n",
      "Epoch [18/50], Loss: 0.0673\n",
      "Epoch [19/50], Loss: 0.0671\n",
      "Epoch [20/50], Loss: 0.0673\n",
      "Epoch [21/50], Loss: 0.0677\n",
      "Epoch [22/50], Loss: 0.0670\n",
      "Epoch [23/50], Loss: 0.0678\n",
      "Epoch [24/50], Loss: 0.0672\n",
      "Epoch [25/50], Loss: 0.0673\n",
      "Epoch [26/50], Loss: 0.0670\n",
      "Epoch [27/50], Loss: 0.0676\n",
      "Epoch [28/50], Loss: 0.0671\n",
      "Epoch [29/50], Loss: 0.0670\n",
      "Epoch [30/50], Loss: 0.0671\n",
      "Epoch [31/50], Loss: 0.0670\n",
      "Epoch [32/50], Loss: 0.0677\n",
      "Epoch [33/50], Loss: 0.0671\n",
      "Epoch [34/50], Loss: 0.0681\n",
      "Epoch [35/50], Loss: 0.0672\n",
      "Epoch [36/50], Loss: 0.0678\n",
      "Epoch [37/50], Loss: 0.0676\n",
      "Epoch [38/50], Loss: 0.0670\n",
      "Epoch [39/50], Loss: 0.0666\n",
      "Epoch [40/50], Loss: 0.0672\n",
      "Epoch [41/50], Loss: 0.0678\n",
      "Epoch [42/50], Loss: 0.0681\n",
      "Epoch [43/50], Loss: 0.0670\n",
      "Epoch [44/50], Loss: 0.0674\n",
      "Epoch [45/50], Loss: 0.0672\n",
      "Epoch [46/50], Loss: 0.0674\n",
      "Epoch [47/50], Loss: 0.0670\n",
      "Epoch [48/50], Loss: 0.0678\n",
      "Epoch [49/50], Loss: 0.0670\n",
      "Epoch [50/50], Loss: 0.0670\n"
     ]
    }
   ],
   "source": [
    "num_epochs = 50\n",
    "for epoch in range(num_epochs):\n",
    "    model.train()\n",
    "    running_loss = 0.0\n",
    "    for inputs, labels in train_loader:\n",
    "        optimizer.zero_grad()\n",
    "        outputs = model(inputs)\n",
    "        loss = criterion(outputs, labels)\n",
    "        loss.backward()\n",
    "        optimizer.step()\n",
    "        running_loss += loss.item()\n",
    "    \n",
    "    print(f\"Epoch [{epoch+1}/{num_epochs}], Loss: {running_loss/len(train_loader):.4f}\")"
   ]
  },
  {
   "cell_type": "code",
   "execution_count": 27,
   "id": "5abf06bc-bd3f-4faa-bad5-2cca366ff00e",
   "metadata": {},
   "outputs": [
    {
     "name": "stdout",
     "output_type": "stream",
     "text": [
      "Accuracy on test set: 97.40%\n"
     ]
    }
   ],
   "source": [
    "model.eval()\n",
    "correct = 0\n",
    "total = 0\n",
    "with torch.no_grad():\n",
    "    for inputs, labels in test_loader:\n",
    "        outputs = model(inputs)\n",
    "        _, predicted = torch.max(outputs.data, 1)\n",
    "        total += labels.size(0)\n",
    "        correct += (predicted == labels).sum().item()\n",
    "\n",
    "print(f\"Accuracy on test set: {100 * correct / total:.2f}%\")\n"
   ]
  },
  {
   "cell_type": "code",
   "execution_count": 28,
   "id": "63762fd2-86de-4457-9e50-8c7f1b3071bc",
   "metadata": {},
   "outputs": [
    {
     "name": "stdout",
     "output_type": "stream",
     "text": [
      "Epoch [1/20], Train Loss: 0.0673, Test Loss: 0.0730, Test Accuracy: 97.40%\n",
      "Epoch [2/20], Train Loss: 0.0671, Test Loss: 0.0743, Test Accuracy: 97.40%\n",
      "Epoch [3/20], Train Loss: 0.0673, Test Loss: 0.0730, Test Accuracy: 97.40%\n",
      "Epoch [4/20], Train Loss: 0.0671, Test Loss: 0.0746, Test Accuracy: 97.40%\n",
      "Epoch [5/20], Train Loss: 0.0673, Test Loss: 0.0720, Test Accuracy: 97.40%\n",
      "Epoch [6/20], Train Loss: 0.0673, Test Loss: 0.0727, Test Accuracy: 97.40%\n",
      "Epoch [7/20], Train Loss: 0.0666, Test Loss: 0.0730, Test Accuracy: 97.40%\n",
      "Epoch [8/20], Train Loss: 0.0674, Test Loss: 0.0719, Test Accuracy: 97.40%\n",
      "Epoch [9/20], Train Loss: 0.0671, Test Loss: 0.0720, Test Accuracy: 97.40%\n",
      "Epoch [10/20], Train Loss: 0.0672, Test Loss: 0.0720, Test Accuracy: 97.40%\n",
      "Epoch [11/20], Train Loss: 0.0667, Test Loss: 0.0729, Test Accuracy: 97.40%\n",
      "Epoch [12/20], Train Loss: 0.0673, Test Loss: 0.0726, Test Accuracy: 97.40%\n",
      "Epoch [13/20], Train Loss: 0.0671, Test Loss: 0.0722, Test Accuracy: 97.40%\n",
      "Epoch [14/20], Train Loss: 0.0671, Test Loss: 0.0720, Test Accuracy: 97.40%\n",
      "Epoch [15/20], Train Loss: 0.0672, Test Loss: 0.0715, Test Accuracy: 97.40%\n",
      "Epoch [16/20], Train Loss: 0.0672, Test Loss: 0.0718, Test Accuracy: 97.40%\n",
      "Epoch [17/20], Train Loss: 0.0671, Test Loss: 0.0721, Test Accuracy: 97.40%\n",
      "Epoch [18/20], Train Loss: 0.0675, Test Loss: 0.0717, Test Accuracy: 97.40%\n",
      "Epoch [19/20], Train Loss: 0.0677, Test Loss: 0.0725, Test Accuracy: 97.40%\n",
      "Epoch [20/20], Train Loss: 0.0675, Test Loss: 0.0723, Test Accuracy: 97.40%\n"
     ]
    }
   ],
   "source": [
    "import matplotlib.pyplot as plt\n",
    "\n",
    "# Initialisation des listes pour stocker les pertes et la précision\n",
    "train_losses = []\n",
    "test_losses = []\n",
    "test_accuracies = []\n",
    "\n",
    "num_epochs = 20\n",
    "for epoch in range(num_epochs):\n",
    "    model.train()\n",
    "    running_loss = 0.0\n",
    "    for inputs, labels in train_loader:\n",
    "        optimizer.zero_grad()\n",
    "        outputs = model(inputs)\n",
    "        loss = criterion(outputs, labels)\n",
    "        loss.backward()\n",
    "        optimizer.step()\n",
    "        running_loss += loss.item()\n",
    "    \n",
    "    # Calcul de la perte moyenne sur l'ensemble d'entraînement\n",
    "    avg_train_loss = running_loss / len(train_loader)\n",
    "    train_losses.append(avg_train_loss)\n",
    "    \n",
    "    # Évaluation du modèle sur l'ensemble de test\n",
    "    model.eval()\n",
    "    test_loss = 0.0\n",
    "    correct = 0\n",
    "    total = 0\n",
    "    with torch.no_grad():\n",
    "        for inputs, labels in test_loader:\n",
    "            outputs = model(inputs)\n",
    "            loss = criterion(outputs, labels)\n",
    "            test_loss += loss.item()\n",
    "            \n",
    "            _, predicted = torch.max(outputs.data, 1)\n",
    "            total += labels.size(0)\n",
    "            correct += (predicted == labels).sum().item()\n",
    "    \n",
    "    # Calcul de la perte moyenne et de la précision sur l'ensemble de test\n",
    "    avg_test_loss = test_loss / len(test_loader)\n",
    "    test_losses.append(avg_test_loss)\n",
    "    accuracy = 100 * correct / total\n",
    "    test_accuracies.append(accuracy)\n",
    "    \n",
    "    print(f\"Epoch [{epoch+1}/{num_epochs}], Train Loss: {avg_train_loss:.4f}, Test Loss: {avg_test_loss:.4f}, Test Accuracy: {accuracy:.2f}%\")\n"
   ]
  },
  {
   "cell_type": "code",
   "execution_count": 29,
   "id": "830057db-510b-43f6-a934-4039855b3096",
   "metadata": {},
   "outputs": [
    {
     "data": {
      "image/png": "[encoded data removed]",
      "text/plain": [
       "<Figure size 1200x500 with 2 Axes>"
      ]
     },
     "metadata": {},
     "output_type": "display_data"
    }
   ],
   "source": [
    "# Courbe de la perte d'entraînement et de test\n",
    "plt.figure(figsize=(12, 5))\n",
    "plt.subplot(1, 2, 1)\n",
    "plt.plot(train_losses, label='Training Loss')\n",
    "plt.plot(test_losses, label='Test Loss')\n",
    "plt.xlabel('Epoch')\n",
    "plt.ylabel('Loss')\n",
    "plt.legend()\n",
    "plt.title('Training and Test Loss')\n",
    "\n",
    "# Courbe de précision sur le test\n",
    "plt.subplot(1, 2, 2)\n",
    "plt.plot(test_accuracies, label='Test Accuracy')\n",
    "plt.xlabel('Epoch')\n",
    "plt.ylabel('Accuracy (%)')\n",
    "plt.legend()\n",
    "plt.title('Test Accuracy')\n",
    "\n",
    "plt.show()\n"
   ]
  },
  {
   "cell_type": "code",
   "execution_count": null,
   "id": "5586afbd-cbbd-4833-90dc-ade995de1588",
   "metadata": {},
   "outputs": [],
   "source": []
  }
 ],
 "metadata": {
  "kernelspec": {
   "display_name": "Python 3 (ipykernel)",
   "language": "python",
   "name": "python3"
  },
  "language_info": {
   "codemirror_mode": {
    "name": "ipython",
    "version": 3
   },
   "file_extension": ".py",
   "mimetype": "text/x-python",
   "name": "python",
   "nbconvert_exporter": "python",
   "pygments_lexer": "ipython3",
   "version": "3.10.0"
  }
 },
 "nbformat": 4,
 "nbformat_minor": 5
}
